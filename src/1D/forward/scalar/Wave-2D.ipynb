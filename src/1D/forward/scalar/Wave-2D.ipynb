{
 "cells": [
  {
   "cell_type": "code",
   "execution_count": 106,
   "metadata": {},
   "outputs": [],
   "source": [
    "from dolfin import *\n",
    "import numpy as np\n",
    "import matplotlib.pylab as plt\n",
    "import os\n",
    "import datetime\n",
    "\n",
    "def wave_eq(the_model                 , \n",
    "            num_intervals = 10        ,                                     \n",
    "            out_name      = 'soln.pvd',\n",
    "            build_dir     = ''):\n",
    "    if( build_dir != '' ):\n",
    "        if( os.path.exists(build_dir) == False ):\n",
    "            os.system('mkdir %s'%(build_dir))\n",
    "    \n",
    "    #pass to local variable names\n",
    "    c     = the_model.c\n",
    "    mesh  = the_model.mesh\n",
    "    dt    = the_model.dt\n",
    "    T_0   = the_model.T_0\n",
    "    T_1   = the_model.T_1\n",
    "    delta = the_model.src\n",
    "    V     = the_model.V\n",
    "    N     = the_model.N\n",
    "    \n",
    "    # Time variables\n",
    "    t = T_0\n",
    "    T = T_1 - T_0\n",
    "\n",
    "    #interval for showing plots\n",
    "    plot_interval = np.floor(T / (dt * num_intervals))\n",
    "    \n",
    "    # Previous and current solution\n",
    "    u1= interpolate(Constant(0.0), V)\n",
    "    u0= interpolate(Constant(0.0), V)\n",
    "\n",
    "    # Variational problem at each time\n",
    "    u = TrialFunction(V)\n",
    "    v = TestFunction(V)\n",
    "\n",
    "    a = u*v*dx + dt*dt*c*c*inner(grad(u), grad(v))*dx\n",
    "    L = 2*u1*v*dx-u0*v*dx\n",
    "\n",
    "    bc = DirichletBC(V, 0, \"on_boundary\")\n",
    "    A, b = assemble_system(a, L, bc)\n",
    "\n",
    "    i_plot = 0\n",
    "    u=Function(V)\n",
    "    up=[]\n",
    "    fid = File('solution.pvd')\n",
    "    while t <= T_1:\n",
    "        A, b = assemble_system(a, L, bc)\n",
    "        delta_eval = delta(t)\n",
    "        delta_eval.apply(b)\n",
    "        solve(A, u.vector(), b)\n",
    "        u0.assign(u1)\n",
    "        u1.assign(u)\n",
    "        t += dt\n",
    "\n",
    "        # Reduce the range of the solution so that we can see the waves\n",
    "        j = 0\n",
    "        min_signal = 0.01\n",
    "        for i in u.vector():\n",
    "            i = min(.01, i)\n",
    "            i = max(-.01, i)\n",
    "            u.vector()[j] = i;\n",
    "            j += 1\n",
    "\n",
    "        if( (i_plot % plot_interval) == 0 ):\n",
    "            #print('Hello about to plot...')\n",
    "            print('About to plot')\n",
    "            up.append(Function(V))\n",
    "            up[len(up) - 1].assign(u)\n",
    "            #plot(up, interactive=False, title=str('t = ' + str(t)))\n",
    "            #plt.plot(mesh.coordinates(), u.vector())\n",
    "            #fig.write_png(str('u-' + t + '.png'))\n",
    "            \n",
    "            \n",
    "        i_plot += 1\n",
    "    fid = File('%s%s'%(build_dir,out_name))\n",
    "    for i in range(0,len(up)):\n",
    "        t = dt * ( 1 + i * (T_1-T_0) / (dt * num_plots) )\n",
    "        fid << up[i], t"
   ]
  },
  {
   "cell_type": "code",
   "execution_count": 107,
   "metadata": {},
   "outputs": [],
   "source": [
    "class WaveModel:\n",
    "    def __init__(self, mesh, space, deg=1, c=Constant(1.0), T_0=0, T_1=1, num_steps=100):\n",
    "        self.mesh = mesh\n",
    "        self.V    = FunctionSpace(mesh, space, deg)\n",
    "        self.c    = c\n",
    "        self.T_0  = T_0\n",
    "        self.T_1  = T_1\n",
    "        self.N    = num_steps\n",
    "        self.dt   = (T_1 - T_0) / num_steps\n",
    "        self.src  = lambda t : Constant(0.0)\n",
    "    \n",
    "    #source must be passed as a function of time, i.e. of type (t) -> ( R^2 -> R )\n",
    "    def set_source(self, the_source):\n",
    "        self.src = the_source\n",
    "        \n",
    "    #printing function for debugging\n",
    "    def pretty_print(self):\n",
    "        print('mesh = %s'%(self.mesh))\n",
    "        print('space = %s'%(self.V))\n",
    "        print('c = %s'%(self.c))\n",
    "        print('T_0 = %s'%(self.T_0))\n",
    "        print('T_1 = %s'%(self.T_1))\n",
    "        print('N = %s'%(self.N))\n",
    "        print('source = %s'%(self.src))\n",
    "        \n",
    "    #TODO: Modify so that the build_directory is passed as an argument, not dynamically calculated\n",
    "    def go_forward(self,\n",
    "                   num_intervals = 10        ,                                     \n",
    "                   out_name      = 'soln.pvd',\n",
    "                   build_dir     = ''):\n",
    "        x = datetime.datetime.now()\n",
    "        curr_time = '%s%s-%s:%s'%(x.strftime(\"%B\"),x.strftime(\"%d\"), \\\n",
    "                                    x.strftime(\"%H\"), \\\n",
    "                                    x.strftime(\"%M\"))\n",
    "        build_dir = '%s/%s'%(build_dir, curr_time)\n",
    "        os.system('mkdir %s'%(build_dir))\n",
    "    \n",
    "        #pass to local variable names\n",
    "        c     = self.c\n",
    "        mesh  = self.mesh\n",
    "        dt    = self.dt\n",
    "        T_0   = self.T_0\n",
    "        T_1   = self.T_1\n",
    "        delta = self.src\n",
    "        V     = self.V\n",
    "        N     = self.N\n",
    "        \n",
    "        # Time variables\n",
    "        t = T_0\n",
    "        T = T_1 - T_0\n",
    "\n",
    "        #interval for showing plots\n",
    "        plot_interval = np.floor(T / (dt * num_intervals))\n",
    "\n",
    "        # Previous and current solution\n",
    "        u1= interpolate(Constant(0.0), V)\n",
    "        u0= interpolate(Constant(0.0), V)\n",
    "\n",
    "        # Variational problem at each time\n",
    "        u = TrialFunction(V)\n",
    "        v = TestFunction(V)\n",
    "\n",
    "        a = u*v*dx + dt*dt*c*c*inner(grad(u), grad(v))*dx\n",
    "        L = 2*u1*v*dx-u0*v*dx\n",
    "\n",
    "        bc = DirichletBC(V, 0, \"on_boundary\")\n",
    "        A, b = assemble_system(a, L, bc)\n",
    "\n",
    "        i_plot = 0\n",
    "        u=Function(V)\n",
    "        up=[]\n",
    "        fid = File('solution.pvd')\n",
    "        while t <= T_1:\n",
    "            A, b = assemble_system(a, L, bc)\n",
    "            delta_eval = delta(t)\n",
    "            delta_eval.apply(b)\n",
    "            solve(A, u.vector(), b)\n",
    "            u0.assign(u1)\n",
    "            u1.assign(u)\n",
    "            t += dt\n",
    "\n",
    "            # Reduce the range of the solution so that we can see the waves\n",
    "            j = 0\n",
    "            min_signal = 0.01\n",
    "            for i in u.vector():\n",
    "                i = min(.01, i)\n",
    "                i = max(-.01, i)\n",
    "                u.vector()[j] = i;\n",
    "                j += 1\n",
    "\n",
    "            if( (i_plot % plot_interval) == 0 ):\n",
    "                #print('Hello about to plot...')\n",
    "                print('About to plot')\n",
    "                up.append(Function(V))\n",
    "                up[len(up) - 1].assign(u)\n",
    "                #plot(up, interactive=False, title=str('t = ' + str(t)))\n",
    "                #plt.plot(mesh.coordinates(), u.vector())\n",
    "                #fig.write_png(str('u-' + t + '.png'))\n",
    "\n",
    "\n",
    "            i_plot += 1\n",
    "        fid = File('%s/%s'%(build_dir,out_name))\n",
    "        for i in range(0,len(up)):\n",
    "            t = dt * ( 1 + i * (T_1-T_0) / (dt * num_plots) )\n",
    "            fid << up[i], t\n",
    "        os.system('cd %s'%(build_dir))\n",
    "        os.system('sed -i \"\" \\'s/f_[0-9]*/f/g\\' \\'.*vtu\\'')\n",
    "        os.system('sed -i \"\" \\'s/UInt32/Int32/g\\' \\'.*vtu\\'')\n",
    "        \n",
    "        "
   ]
  },
  {
   "cell_type": "code",
   "execution_count": 108,
   "metadata": {},
   "outputs": [
    {
     "name": "stdout",
     "output_type": "stream",
     "text": [
      "mesh = <dolfin.cpp.generation.RectangleMesh object at 0x129043d10>\n",
      "space = FunctionSpace(Mesh(VectorElement(FiniteElement('Lagrange', triangle, 1), dim=2), 15216), FiniteElement('Lagrange', triangle, 1))\n",
      "c = f_15214\n",
      "T_0 = 0\n",
      "T_1 = 1\n",
      "N = 100\n",
      "source = <function <lambda> at 0x12932a0d0>\n",
      "About to plot\n",
      "About to plot\n",
      "About to plot\n",
      "About to plot\n",
      "About to plot\n",
      "About to plot\n",
      "About to plot\n",
      "About to plot\n",
      "About to plot\n",
      "About to plot\n"
     ]
    }
   ],
   "source": [
    "c         = Constant(5000.0)\n",
    "mesh      = RectangleMesh(Point(-2, -2), Point(2, 2),80,80)\n",
    "dt        = 4e-4\n",
    "T_0       = 0\n",
    "T_1       = 4e-3\n",
    "num_plots = 100\n",
    "V         = FunctionSpace(mesh, \"Lagrange\", 1)\n",
    "delta     = lambda t : PointSource(V, Point(0.0, 0.0), sin(c * 10 * t))\n",
    "\n",
    "the_model = WaveModel(mesh,\"Lagrange\",1)\n",
    "#the_model.set_source(lambda t : PointSource(the_model.V, Point(0.0,0.0), sin(c * 10 * t)))\n",
    "the_model.set_source(lambda t : PointSource(the_model.V,Point(0.0,0.0), 1.0))\n",
    "the_model.pretty_print()\n",
    "the_model.go_forward(build_dir='figures')\n"
   ]
  },
  {
   "cell_type": "code",
   "execution_count": 81,
   "metadata": {
    "scrolled": true
   },
   "outputs": [],
   "source": [
    "x = the_model.src"
   ]
  },
  {
   "cell_type": "code",
   "execution_count": 82,
   "metadata": {},
   "outputs": [
    {
     "data": {
      "text/plain": [
       "<function __main__.<lambda>(t)>"
      ]
     },
     "execution_count": 82,
     "metadata": {},
     "output_type": "execute_result"
    }
   ],
   "source": [
    "x"
   ]
  },
  {
   "cell_type": "code",
   "execution_count": 83,
   "metadata": {},
   "outputs": [
    {
     "ename": "ValueError",
     "evalue": "allocator<T>::allocate(size_t n) 'n' exceeds maximum supported size",
     "output_type": "error",
     "traceback": [
      "\u001b[0;31m---------------------------------------------------------------------------\u001b[0m",
      "\u001b[0;31mValueError\u001b[0m                                Traceback (most recent call last)",
      "\u001b[0;32m<ipython-input-83-887a6eae762a>\u001b[0m in \u001b[0;36m<module>\u001b[0;34m\u001b[0m\n\u001b[0;32m----> 1\u001b[0;31m \u001b[0mx\u001b[0m\u001b[0;34m(\u001b[0m\u001b[0;36m1\u001b[0m\u001b[0;34m)\u001b[0m\u001b[0;34m\u001b[0m\u001b[0;34m\u001b[0m\u001b[0m\n\u001b[0m",
      "\u001b[0;32m<ipython-input-79-a45367cd9f41>\u001b[0m in \u001b[0;36m<lambda>\u001b[0;34m(t)\u001b[0m\n\u001b[1;32m      9\u001b[0m \u001b[0;34m\u001b[0m\u001b[0m\n\u001b[1;32m     10\u001b[0m \u001b[0mthe_model\u001b[0m \u001b[0;34m=\u001b[0m \u001b[0mWaveModel\u001b[0m\u001b[0;34m(\u001b[0m\u001b[0mmesh\u001b[0m\u001b[0;34m,\u001b[0m\u001b[0;34m\"Lagrange\"\u001b[0m\u001b[0;34m,\u001b[0m\u001b[0;36m1\u001b[0m\u001b[0;34m)\u001b[0m\u001b[0;34m\u001b[0m\u001b[0;34m\u001b[0m\u001b[0m\n\u001b[0;32m---> 11\u001b[0;31m \u001b[0mthe_model\u001b[0m\u001b[0;34m.\u001b[0m\u001b[0mset_source\u001b[0m\u001b[0;34m(\u001b[0m\u001b[0;32mlambda\u001b[0m \u001b[0mt\u001b[0m \u001b[0;34m:\u001b[0m \u001b[0mPointSource\u001b[0m\u001b[0;34m(\u001b[0m\u001b[0mthe_model\u001b[0m\u001b[0;34m.\u001b[0m\u001b[0mV\u001b[0m\u001b[0;34m,\u001b[0m \u001b[0mPoint\u001b[0m\u001b[0;34m(\u001b[0m\u001b[0;36m0.0\u001b[0m\u001b[0;34m,\u001b[0m\u001b[0;36m0.0\u001b[0m\u001b[0;34m)\u001b[0m\u001b[0;34m,\u001b[0m \u001b[0msin\u001b[0m\u001b[0;34m(\u001b[0m\u001b[0mc\u001b[0m \u001b[0;34m*\u001b[0m \u001b[0;36m10\u001b[0m \u001b[0;34m*\u001b[0m \u001b[0mt\u001b[0m\u001b[0;34m)\u001b[0m\u001b[0;34m)\u001b[0m\u001b[0;34m)\u001b[0m\u001b[0;34m\u001b[0m\u001b[0;34m\u001b[0m\u001b[0m\n\u001b[0m\u001b[1;32m     12\u001b[0m \u001b[0mthe_model\u001b[0m\u001b[0;34m.\u001b[0m\u001b[0mpretty_print\u001b[0m\u001b[0;34m(\u001b[0m\u001b[0;34m)\u001b[0m\u001b[0;34m\u001b[0m\u001b[0;34m\u001b[0m\u001b[0m\n\u001b[1;32m     13\u001b[0m \u001b[0mthe_model\u001b[0m\u001b[0;34m.\u001b[0m\u001b[0mgo_forward\u001b[0m\u001b[0;34m(\u001b[0m\u001b[0mbuild_dir\u001b[0m\u001b[0;34m=\u001b[0m\u001b[0;34m'figures'\u001b[0m\u001b[0;34m)\u001b[0m\u001b[0;34m\u001b[0m\u001b[0;34m\u001b[0m\u001b[0m\n",
      "\u001b[0;31mValueError\u001b[0m: allocator<T>::allocate(size_t n) 'n' exceeds maximum supported size"
     ]
    }
   ],
   "source": []
  },
  {
   "cell_type": "code",
   "execution_count": 84,
   "metadata": {},
   "outputs": [
    {
     "name": "stdout",
     "output_type": "stream",
     "text": [
      "mesh = <dolfin.cpp.generation.RectangleMesh object at 0x1292f2a40>\n",
      "space = FunctionSpace(Mesh(VectorElement(FiniteElement('Lagrange', triangle, 1), dim=2), 406), FiniteElement('Lagrange', triangle, 1))\n",
      "c = f_370\n",
      "T_0 = 0\n",
      "T_1 = 1\n",
      "N = 100\n",
      "source = <function <lambda> at 0x128f7ddc0>\n"
     ]
    }
   ],
   "source": [
    "the_model.pretty_print()"
   ]
  },
  {
   "cell_type": "code",
   "execution_count": 85,
   "metadata": {},
   "outputs": [
    {
     "data": {
      "text/plain": [
       "<function __main__.<lambda>(t)>"
      ]
     },
     "execution_count": 85,
     "metadata": {},
     "output_type": "execute_result"
    }
   ],
   "source": [
    "the_model.src"
   ]
  },
  {
   "cell_type": "code",
   "execution_count": null,
   "metadata": {},
   "outputs": [],
   "source": []
  }
 ],
 "metadata": {
  "kernelspec": {
   "display_name": "Python 3",
   "language": "python",
   "name": "python3"
  },
  "language_info": {
   "codemirror_mode": {
    "name": "ipython",
    "version": 3
   },
   "file_extension": ".py",
   "mimetype": "text/x-python",
   "name": "python",
   "nbconvert_exporter": "python",
   "pygments_lexer": "ipython3",
   "version": "3.8.0"
  }
 },
 "nbformat": 4,
 "nbformat_minor": 2
}

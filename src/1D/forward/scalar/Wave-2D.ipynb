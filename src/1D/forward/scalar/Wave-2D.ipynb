{
 "cells": [
  {
   "cell_type": "code",
   "execution_count": 40,
   "metadata": {},
   "outputs": [],
   "source": [
    "from dolfin import *\n",
    "import numpy as np\n",
    "import pylab as plt\n",
    "import os\n",
    "import datetime\n",
    "\n",
    "def wave_eq(the_model                 , \n",
    "            num_intervals = 10        ,                                     \n",
    "            out_name      = 'soln.pvd',\n",
    "            build_dir     = ''):\n",
    "    if( build_dir != '' ):\n",
    "        if( os.path.exists(build_dir) == False ):\n",
    "            os.system('mkdir %s'%(build_dir))\n",
    "    \n",
    "    #pass to local variable names\n",
    "    c     = the_model.c\n",
    "    mesh  = the_model.mesh\n",
    "    dt    = the_model.dt\n",
    "    T_0   = the_model.T_0\n",
    "    T_1   = the_model.T_1\n",
    "    delta = the_model.src\n",
    "    V     = the_model.V\n",
    "    N     = the_model.N\n",
    "    \n",
    "    # Time variables\n",
    "    t = T_0\n",
    "    T = T_1 - T_0\n",
    "\n",
    "    #interval for showing plots\n",
    "    plot_interval = np.floor(T / (dt * num_intervals))\n",
    "    \n",
    "    # Previous and current solution\n",
    "    u1= interpolate(Constant(0.0), V)\n",
    "    u0= interpolate(Constant(0.0), V)\n",
    "\n",
    "    # Variational problem at each time\n",
    "    u = TrialFunction(V)\n",
    "    v = TestFunction(V)\n",
    "\n",
    "    a = u*v*dx + dt*dt*c*c*inner(grad(u), grad(v))*dx\n",
    "    L = 2*u1*v*dx-u0*v*dx\n",
    "\n",
    "    bc = DirichletBC(V, 2.0, \"on_boundary\")\n",
    "    A, b = assemble_system(a, L, bc)\n",
    "\n",
    "    i_plot = 0\n",
    "    u=Function(V)\n",
    "    up=[]\n",
    "    fid = File('solution.pvd')\n",
    "    while t <= T_1:\n",
    "        A, b = assemble_system(a, L, bc)\n",
    "        delta_eval = delta(t)\n",
    "        delta_eval.apply(b)\n",
    "        solve(A, u.vector(), b)\n",
    "        u0.assign(u1)\n",
    "        u1.assign(u)\n",
    "        t += dt\n",
    "\n",
    "        # Reduce the range of the solution so that we can see the waves\n",
    "        j = 0\n",
    "        min_signal = 0.01\n",
    "        for i in u.vector():\n",
    "            i = min(.01, i)\n",
    "            i = max(-.01, i)\n",
    "            u.vector()[j] = i;\n",
    "            j += 1\n",
    "\n",
    "        if( (i_plot % plot_interval) == 0 ):\n",
    "            #print('Hello about to plot...')\n",
    "            print('About to plot')\n",
    "            up.append(Function(V))\n",
    "            up[len(up) - 1].assign(u)\n",
    "            #plot(up, interactive=False, title=str('t = ' + str(t)))\n",
    "            #plt.plot(mesh.coordinates(), u.vector())\n",
    "            #fig.write_png(str('u-' + t + '.png'))\n",
    "            \n",
    "            \n",
    "        i_plot += 1\n",
    "    fid = File('%s%s'%(build_dir,out_name))\n",
    "    num_plots = num_intervals\n",
    "    for i in range(0,len(up)):\n",
    "        t = dt * ( 1 + i * (T_1-T_0) / (dt * num_plots) )\n",
    "        fid << up[i], t"
   ]
  },
  {
   "cell_type": "code",
   "execution_count": 41,
   "metadata": {},
   "outputs": [],
   "source": [
    "class WaveModel:\n",
    "    def __init__(self, mesh, \\\n",
    "                 space='Lagrange',     \\\n",
    "                 u0='0.0',              \\\n",
    "                 u1='0.0',              \\\n",
    "                 deg=1,                 \\\n",
    "                 c='1.0',       \\\n",
    "                 gamma_1='1.0', \\\n",
    "                 gamma_2='1.0', \\\n",
    "                 T_0=0,                 \\\n",
    "                 T_1=1,                 \\\n",
    "                 num_steps=100):\n",
    "        print('about to construct')\n",
    "        self.mesh     = mesh\n",
    "        self.V        = FunctionSpace(mesh, space, deg)\n",
    "        self.V_v      = VectorFunctionSpace(mesh, space, deg, dim=2)\n",
    "        self.deg      = deg\n",
    "        self.c        = Expression(c, domain=mesh, degree=1)\n",
    "        self.u        = Expression(u0, domain=mesh, degree=1)\n",
    "        self.u0       = Expression(u0, domain=mesh, degree=1)\n",
    "        self.u0_deriv = Expression(u1, domain=mesh, degree=1)\n",
    "        self.gamma_1  = Expression(gamma_1, domain=mesh, degree=1)\n",
    "        self.gamma_2  = Expression(gamma_2, domain=mesh, degree=1)\n",
    "        self.T_0      = T_0\n",
    "        self.T_1      = T_1\n",
    "        self.N        = num_steps\n",
    "        self.dt       = (T_1 - T_0) / (num_steps-1)\n",
    "        self.src      = lambda t : Constant(0.0)\n",
    "    \n",
    "    #source must be passed as a function of time, i.e. of type (t) -> ( R^2 -> R )\n",
    "    def set_source(self, the_source):\n",
    "        self.src = the_source\n",
    "        \n",
    "    #printing function for debugging\n",
    "    def pretty_print(self):\n",
    "        print('mesh = %s'%(self.mesh))\n",
    "        print('space = %s'%(self.V))\n",
    "        print('c = %s'%(self.c))\n",
    "        print('T_0 = %s'%(self.T_0))\n",
    "        print('T_1 = %s'%(self.T_1))\n",
    "        print('N = %s'%(self.N))\n",
    "        print('dt = %s'%(self.dt))\n",
    "        print('source = %s'%(self.src))\n",
    "        print('u0 = %s'%(self.u0))\n",
    "        print('u0_deriv = %s'%(self.u0_deriv))\n",
    "        \n",
    "    #TODO: Modify so that the build_directory is passed as an argument, not dynamically calculated\n",
    "    def go_forward(self,\n",
    "                   num_intervals = 10        ,                                     \n",
    "                   out_name      = 'soln',\n",
    "                   build_dir     = ''):\n",
    "\n",
    "    \n",
    "        #pass to local variable names\n",
    "        c        = self.c\n",
    "        mesh     = self.mesh\n",
    "        V        = self.V\n",
    "        u_prev   = self.u0\n",
    "        u0       = self.u0\n",
    "        u0_deriv = self.u0_deriv\n",
    "        gamma_1  = self.gamma_1\n",
    "        gamma_2  = self.gamma_2\n",
    "        dt       = self.dt\n",
    "        T_0      = self.T_0\n",
    "        T_1      = self.T_1\n",
    "        delta    = self.src\n",
    "        N        = self.N\n",
    "        \n",
    "        # Time variables\n",
    "        t = T_0\n",
    "        T = T_1 - T_0\n",
    "        \n",
    "        u = u_prev\n",
    "        \n",
    "        u_grad = grad(u)\n",
    "        u_grad_x = u_grad[0]\n",
    "        u_grad_y = u_grad[1]\n",
    "\n",
    "        #interval for showing plots\n",
    "        plot_interval = np.floor(T / (dt * num_intervals))\n",
    "\n",
    "        #auxiliary variable initial advancement\n",
    "        def getPhi(i):\n",
    "            phi1 = TrialFunction(self.V)\n",
    "            v1   = TestFunction(self.V)\n",
    "        \n",
    "            alpha = (-1) ** (i)\n",
    "            \n",
    "            a = phi1 * v1 * dx\n",
    "            L = alpha * dt * c * (gamma_2-gamma_1) * grad(u)[i] * v1 * dx\n",
    "        \n",
    "            bc = DirichletBC(V,0,\"on_boundary\")\n",
    "            A,b = assemble_system(a,L,bc)\n",
    "        \n",
    "            phi1_tilde = Function(self.V)\n",
    "            solve(A,phi1_tilde.vector(),b)\n",
    "            return phi1_tilde\n",
    "    \n",
    "        phi0_prev = Expression('0.0', domain=mesh, degree=self.deg)\n",
    "        phi1_prev = Expression('0.0', domain=mesh, degree=self.deg)\n",
    "        \n",
    "        phi0 = getPhi(0)\n",
    "        phi1 = getPhi(1)\n",
    "        \n",
    "        #setup computations\n",
    "        u_prev = u0\n",
    "        u = Function(self.V)\n",
    "        u.assign = dt * u0_deriv + u0\n",
    "        \n",
    "        u_trial = TrialFunction(self.V)\n",
    "        u_test  = TestFunction(self.V)\n",
    "        \n",
    "        A_u   = (1 / (dt**2) + (gamma_1 + gamma_2) / (2 * dt)) * u_trial * u_test * dx\n",
    "        A_phi = u_trial * u_test * dx\n",
    "        \n",
    "        def phi_ind(i):\n",
    "            if( i == 0 ):\n",
    "                return phi0\n",
    "            else:\n",
    "                return phi1\n",
    "            \n",
    "        def lin_form_u():\n",
    "            grad_phi0 = grad(phi0)\n",
    "            grad_phi1 = grad(phi1)\n",
    "            div_phi   = grad_phi0[0] + grad_phi1[1]\n",
    "            curr_term = (2 / (dt**2) - gamma_1 * gamma_2) * u\n",
    "            prev_term = ((gamma_1+gamma_2) / (2 * dt) - 1 / (dt**2)) * u_prev\n",
    "            L = (curr_term + prev_term + div_phi) * u_test * dx\n",
    "            return L\n",
    "        \n",
    "        def lin_form_phi(i):\n",
    "            grad_u = grad(u)\n",
    "            if(i == 0):\n",
    "                prev_term      = phi0_prev\n",
    "                curr_phi_term  = -dt * gamma_1 * phi0\n",
    "                curr_grad_term = 2 * dt * c * c * (gamma_2 - gamma_1) * grad_u[0]\n",
    "                L = (prev_term + curr_phi_term + curr_grad_term) * u_test * dx\n",
    "                return L\n",
    "            if(i == 1):\n",
    "                prev_term      = phi1_prev\n",
    "                curr_phi_term  = -dt * gamma_2 * phi1\n",
    "                curr_grad_term = -2 * dt * c * c * (gamma_2 - gamma_1) * grad_u[1]\n",
    "                L = (prev_term + curr_phi_term + curr_grad_term) * u_test * dx\n",
    "                return L\n",
    "            \n",
    "        def step_u(tt):\n",
    "            #MAKE SURE THIS IS A DEEP COPY FOR DEBUGGING PURPOSES!!! WOULD MESS\n",
    "            #EVEYRTHING UP IF IT IS ONLY A SHALLOW COPY!!!\n",
    "            u_prev_tmp = Function(V)\n",
    "            u_prev_tmp = u\n",
    "            L_u        = lin_form_u()\n",
    "            bc_u       = DirichletBC(V,0,\"on_boundary\")\n",
    "            A, b       = assemble_system(A_u,L_u,bc_u)\n",
    "            delta_eval = self.src(tt)\n",
    "            delta_eval.apply(b)\n",
    "            solve(A, u.vector(), b)\n",
    "            u_prev = u_prev_tmp\n",
    "        \n",
    "        def step_phi(i):\n",
    "            L_phi = lin_form_phi(i)\n",
    "            bc_phi       = DirichletBC(V,0,\"on_boundary\")\n",
    "            A, b         = assemble_system(A_phi,L_phi,bc_phi)\n",
    "            \n",
    "            if( i == 0 ):\n",
    "                phi_prev_tmp = phi0\n",
    "                solve(A, phi0.vector(), b)\n",
    "                phi0_prev = phi_prev_tmp\n",
    "            else:\n",
    "                phi_prev_tmp = phi1\n",
    "                solve(A, phi1.vector(), b)\n",
    "                phi1_prev = phi_prev_tmp        \n",
    "        \n",
    "        i_plot = 0\n",
    "        up = []\n",
    "        while t <= T_1:\n",
    "            step_u(t)\n",
    "            step_phi(0)\n",
    "            step_phi(1)\n",
    "            \n",
    "            t += dt \n",
    "            \n",
    "            if( (i_plot % plot_interval) == 0 ):\n",
    "                print('About to plot')\n",
    "                up.append(Function(V))\n",
    "                up[len(up) - 1].assign(u)\n",
    "                \n",
    "            i_plot += 1\n",
    "        x = datetime.datetime.now()\n",
    "        curr_time = '%s%s-%s:%s'%(x.strftime(\"%B\"),x.strftime(\"%d\"), \\\n",
    "                                  x.strftime(\"%H\"), \\\n",
    "                                  x.strftime(\"%M\"))\n",
    "        build_dir = '%s/%s'%(build_dir, curr_time)\n",
    "        os.system('mkdir %s'%(build_dir))\n",
    "        #fid = File('%s/%s'%(build_dir,out_name))\n",
    "        fid = File(\"%s.pvd\"%(out_name))\n",
    "        num_plots = num_intervals\n",
    "        print(len(up))\n",
    "        for i in range(0,len(up)):\n",
    "            t = dt * ( 1 + i * (T_1-T_0) / (dt * num_plots) )\n",
    "            fid << up[i], t \n",
    "        os.system(\"sed -i \\\"\\\" \\'s/UInt32/Int32/g\\' %s*.vtu\"%(out_name))\n",
    "        os.system(\"sed -i \\\"\\\" \\'s/f_[0-9]*/f/g\\' %s*.vtu\"%(out_name))\n",
    "        os.system(\"mv %s* %s\"%(out_name, build_dir))"
   ]
  },
  {
   "cell_type": "code",
   "execution_count": 42,
   "metadata": {},
   "outputs": [
    {
     "ename": "RuntimeError",
     "evalue": "Don't know how to plot given object:\n  x[0] < 0.1 ? (10.0 * ((x[0] - 0.1) * 10.0) * ((x[0] - 0.1) * 10.0)) : 0.0\nand projection failed:\n  'str' object has no attribute 'ufl_domain'",
     "output_type": "error",
     "traceback": [
      "\u001b[0;31m---------------------------------------------------------------------------\u001b[0m",
      "\u001b[0;31mAttributeError\u001b[0m                            Traceback (most recent call last)",
      "\u001b[0;32m~/opt/anaconda3/envs/fenics-2019.1/lib/python3.8/site-packages/dolfin/common/plotting.py\u001b[0m in \u001b[0;36mplot\u001b[0;34m(object, *args, **kwargs)\u001b[0m\n\u001b[1;32m    427\u001b[0m                          \"piecewise linears.\")\n\u001b[0;32m--> 428\u001b[0;31m             \u001b[0mobject\u001b[0m \u001b[0;34m=\u001b[0m \u001b[0mproject\u001b[0m\u001b[0;34m(\u001b[0m\u001b[0mobject\u001b[0m\u001b[0;34m,\u001b[0m \u001b[0mmesh\u001b[0m\u001b[0;34m=\u001b[0m\u001b[0mmesh\u001b[0m\u001b[0;34m)\u001b[0m\u001b[0;34m\u001b[0m\u001b[0;34m\u001b[0m\u001b[0m\n\u001b[0m\u001b[1;32m    429\u001b[0m             \u001b[0mmesh\u001b[0m \u001b[0;34m=\u001b[0m \u001b[0mobject\u001b[0m\u001b[0;34m.\u001b[0m\u001b[0mfunction_space\u001b[0m\u001b[0;34m(\u001b[0m\u001b[0;34m)\u001b[0m\u001b[0;34m.\u001b[0m\u001b[0mmesh\u001b[0m\u001b[0;34m(\u001b[0m\u001b[0;34m)\u001b[0m\u001b[0;34m\u001b[0m\u001b[0;34m\u001b[0m\u001b[0m\n",
      "\u001b[0;32m~/opt/anaconda3/envs/fenics-2019.1/lib/python3.8/site-packages/dolfin/fem/projection.py\u001b[0m in \u001b[0;36mproject\u001b[0;34m(v, V, bcs, mesh, function, solver_type, preconditioner_type, form_compiler_parameters)\u001b[0m\n\u001b[1;32m     94\u001b[0m             \u001b[0;31m# Otherwise try extracting function space from expression\u001b[0m\u001b[0;34m\u001b[0m\u001b[0;34m\u001b[0m\u001b[0;34m\u001b[0m\u001b[0m\n\u001b[0;32m---> 95\u001b[0;31m             \u001b[0mV\u001b[0m \u001b[0;34m=\u001b[0m \u001b[0m_extract_function_space\u001b[0m\u001b[0;34m(\u001b[0m\u001b[0mv\u001b[0m\u001b[0;34m,\u001b[0m \u001b[0mmesh\u001b[0m\u001b[0;34m)\u001b[0m\u001b[0;34m\u001b[0m\u001b[0;34m\u001b[0m\u001b[0m\n\u001b[0m\u001b[1;32m     96\u001b[0m \u001b[0;34m\u001b[0m\u001b[0m\n",
      "\u001b[0;32m~/opt/anaconda3/envs/fenics-2019.1/lib/python3.8/site-packages/dolfin/fem/projection.py\u001b[0m in \u001b[0;36m_extract_function_space\u001b[0;34m(expression, mesh)\u001b[0m\n\u001b[1;32m    150\u001b[0m     \u001b[0;32mif\u001b[0m \u001b[0mmesh\u001b[0m \u001b[0;32mis\u001b[0m \u001b[0;32mNone\u001b[0m\u001b[0;34m:\u001b[0m\u001b[0;34m\u001b[0m\u001b[0;34m\u001b[0m\u001b[0m\n\u001b[0;32m--> 151\u001b[0;31m         \u001b[0mdomain\u001b[0m \u001b[0;34m=\u001b[0m \u001b[0mexpression\u001b[0m\u001b[0;34m.\u001b[0m\u001b[0mufl_domain\u001b[0m\u001b[0;34m(\u001b[0m\u001b[0;34m)\u001b[0m\u001b[0;34m\u001b[0m\u001b[0;34m\u001b[0m\u001b[0m\n\u001b[0m\u001b[1;32m    152\u001b[0m         \u001b[0;32mif\u001b[0m \u001b[0mdomain\u001b[0m \u001b[0;32mis\u001b[0m \u001b[0;32mnot\u001b[0m \u001b[0;32mNone\u001b[0m\u001b[0;34m:\u001b[0m\u001b[0;34m\u001b[0m\u001b[0;34m\u001b[0m\u001b[0m\n",
      "\u001b[0;31mAttributeError\u001b[0m: 'str' object has no attribute 'ufl_domain'",
      "\nDuring handling of the above exception, another exception occurred:\n",
      "\u001b[0;31mRuntimeError\u001b[0m                              Traceback (most recent call last)",
      "\u001b[0;32m<ipython-input-42-fa9636a968a9>\u001b[0m in \u001b[0;36m<module>\u001b[0;34m\u001b[0m\n\u001b[1;32m     32\u001b[0m     \u001b[0;32mreturn\u001b[0m \u001b[0;34m'(%s) + (%s)'\u001b[0m\u001b[0;34m%\u001b[0m\u001b[0;34m(\u001b[0m\u001b[0mleft_expr\u001b[0m\u001b[0;34m,\u001b[0m\u001b[0mright_expr\u001b[0m\u001b[0;34m)\u001b[0m\u001b[0;34m\u001b[0m\u001b[0;34m\u001b[0m\u001b[0m\n\u001b[1;32m     33\u001b[0m \u001b[0;34m\u001b[0m\u001b[0m\n\u001b[0;32m---> 34\u001b[0;31m \u001b[0mplot\u001b[0m\u001b[0;34m(\u001b[0m\u001b[0mPML_expr_left\u001b[0m\u001b[0;34m(\u001b[0m\u001b[0;36m1.0\u001b[0m\u001b[0;34m,\u001b[0m\u001b[0;36m0.1\u001b[0m\u001b[0;34m,\u001b[0m\u001b[0;36m0.0\u001b[0m\u001b[0;34m,\u001b[0m\u001b[0;36m0\u001b[0m\u001b[0;34m)\u001b[0m\u001b[0;34m)\u001b[0m\u001b[0;34m\u001b[0m\u001b[0;34m\u001b[0m\u001b[0m\n\u001b[0m",
      "\u001b[0;32m~/opt/anaconda3/envs/fenics-2019.1/lib/python3.8/site-packages/dolfin/common/plotting.py\u001b[0m in \u001b[0;36mplot\u001b[0;34m(object, *args, **kwargs)\u001b[0m\n\u001b[1;32m    432\u001b[0m             \u001b[0mmsg\u001b[0m \u001b[0;34m=\u001b[0m \u001b[0;34m\"Don't know how to plot given object:\\n  %s\\n\"\u001b[0m\u001b[0;31m \u001b[0m\u001b[0;31m\\\u001b[0m\u001b[0;34m\u001b[0m\u001b[0;34m\u001b[0m\u001b[0m\n\u001b[1;32m    433\u001b[0m                   \u001b[0;34m\"and projection failed:\\n  %s\"\u001b[0m \u001b[0;34m%\u001b[0m \u001b[0;34m(\u001b[0m\u001b[0mstr\u001b[0m\u001b[0;34m(\u001b[0m\u001b[0mobject\u001b[0m\u001b[0;34m)\u001b[0m\u001b[0;34m,\u001b[0m \u001b[0mstr\u001b[0m\u001b[0;34m(\u001b[0m\u001b[0me\u001b[0m\u001b[0;34m)\u001b[0m\u001b[0;34m)\u001b[0m\u001b[0;34m\u001b[0m\u001b[0;34m\u001b[0m\u001b[0m\n\u001b[0;32m--> 434\u001b[0;31m             \u001b[0;32mraise\u001b[0m \u001b[0mRuntimeError\u001b[0m\u001b[0;34m(\u001b[0m\u001b[0mmsg\u001b[0m\u001b[0;34m)\u001b[0m\u001b[0;34m\u001b[0m\u001b[0;34m\u001b[0m\u001b[0m\n\u001b[0m\u001b[1;32m    435\u001b[0m \u001b[0;34m\u001b[0m\u001b[0m\n\u001b[1;32m    436\u001b[0m     \u001b[0;31m# Plot\u001b[0m\u001b[0;34m\u001b[0m\u001b[0;34m\u001b[0m\u001b[0;34m\u001b[0m\u001b[0m\n",
      "\u001b[0;31mRuntimeError\u001b[0m: Don't know how to plot given object:\n  x[0] < 0.1 ? (10.0 * ((x[0] - 0.1) * 10.0) * ((x[0] - 0.1) * 10.0)) : 0.0\nand projection failed:\n  'str' object has no attribute 'ufl_domain'"
     ]
    }
   ],
   "source": [
    "def PML_expr_left(C,eta,a,i):\n",
    "    eta_inv  = 1 / eta\n",
    "    ref = eta + a\n",
    "    C_over_eta = C / eta\n",
    "    \n",
    "    var = 'x[%s]'%(i)\n",
    "    \n",
    "    mon = '(%s - %s) * %s'%(var, ref, eta_inv)\n",
    "    \n",
    "    expr = '%s * (%s) * (%s)'% \\\n",
    "                 (C_over_eta, mon, mon)\n",
    "    \n",
    "    return '%s < %s ? (%s) : 0.0'%(var,ref,expr)\n",
    "\n",
    "def PML_expr_right(C,eta,b,i):\n",
    "    eta_inv  = 1 / eta\n",
    "    ref = b - eta\n",
    "    C_over_eta = C / eta\n",
    "    \n",
    "    var = 'x[%s]'%(i)\n",
    "    \n",
    "    mon = '(%s - %s) * %s'%(var, ref, eta_inv)\n",
    "    \n",
    "    expr = '%s * (%s) * (%s)'% \\\n",
    "                 (C_over_eta, mon, mon)\n",
    "    \n",
    "    return '%s > %s ? (%s) : 0.0'%(var,ref,expr)\n",
    "\n",
    "def PML_expr_full(C,eta,a,b,i):\n",
    "    left_expr  = PML_expr_left(C,eta,a,i)\n",
    "    right_expr = PML_expr_right(C,eta,b,i)\n",
    "    return '(%s) + (%s)'%(left_expr,right_expr)\n",
    "\n",
    "plot(PML_expr_left(1.0,0.1,0.0,0))"
   ]
  },
  {
   "cell_type": "code",
   "execution_count": 70,
   "metadata": {},
   "outputs": [
    {
     "ename": "SyntaxError",
     "evalue": "invalid syntax (<ipython-input-70-aa358ea6aefa>, line 27)",
     "output_type": "error",
     "traceback": [
      "\u001b[0;36m  File \u001b[0;32m\"<ipython-input-70-aa358ea6aefa>\"\u001b[0;36m, line \u001b[0;32m27\u001b[0m\n\u001b[0;31m    the_model.pretty_print()\u001b[0m\n\u001b[0m    ^\u001b[0m\n\u001b[0;31mSyntaxError\u001b[0m\u001b[0;31m:\u001b[0m invalid syntax\n"
     ]
    }
   ],
   "source": [
    "mesh      = RectangleMesh(Point(-2, -2), Point(2, 2), 25,25)\n",
    "space     = \"Lagrange\"\n",
    "deg       = 1\n",
    "u0        = '0.0'\n",
    "u0_deriv  = '0.0'\n",
    "deg       = 1\n",
    "c         = '1.0'\n",
    "gamma_1   = PML_expr_full(1.0,0.2,-2.0,2.0,0)\n",
    "gamma_2   = PML_expr_full(1.0,0.2,-2.0,2.0,1)\n",
    "T_0       = 0\n",
    "T_1       = 2\n",
    "N         = 1000\n",
    "\n",
    "the_model = WaveModel(mesh,     \\\n",
    "                      space,    \\\n",
    "                      u0,       \\\n",
    "                      u0_deriv, \\\n",
    "                      deg,      \\\n",
    "                      c,        \\\n",
    "                      gamma_1,  \\\n",
    "                      gamma_2,  \\\n",
    "                      T_0,      \\\n",
    "                      T_1,      \\\n",
    "                      N)\n",
    "\n",
    "the_model.set_source(lambda t : PointSource(the_model.V,Point(0.0,0.0), 1.0/(t+1))\n",
    "the_model.pretty_print()\n",
    "the_model.go_forward(num_intervals=100, build_dir='figures')"
   ]
  },
  {
   "cell_type": "code",
   "execution_count": 44,
   "metadata": {
    "scrolled": true
   },
   "outputs": [],
   "source": [
    "V = FunctionSpace(the_model.mesh, \"Lagrange\", 1)\n",
    "Q = VectorFunctionSpace(the_model.mesh, \"Lagrange\", 1)"
   ]
  },
  {
   "cell_type": "code",
   "execution_count": 45,
   "metadata": {},
   "outputs": [
    {
     "name": "stdout",
     "output_type": "stream",
     "text": [
      "<class 'dolfin.function.function.Function'>\n",
      "<class 'dolfin.function.function.Function'>\n",
      "<class 'ufl.tensors.ComponentTensor'>\n"
     ]
    }
   ],
   "source": [
    "v = Function(V)\n",
    "q = Function(Q)\n",
    "z = v * q\n",
    "print(type(v))\n",
    "print(type(q))\n",
    "print(type(z))"
   ]
  },
  {
   "cell_type": "code",
   "execution_count": null,
   "metadata": {},
   "outputs": [],
   "source": []
  },
  {
   "cell_type": "code",
   "execution_count": 46,
   "metadata": {},
   "outputs": [
    {
     "name": "stdout",
     "output_type": "stream",
     "text": [
      "mesh = <dolfin.cpp.generation.RectangleMesh object at 0x12bbc4c70>\n",
      "space = FunctionSpace(Mesh(VectorElement(FiniteElement('Lagrange', triangle, 1), dim=2), 4128), FiniteElement('Lagrange', triangle, 1))\n",
      "c = f_4135\n",
      "T_0 = 0\n",
      "T_1 = 1\n",
      "N = 11\n",
      "dt = 0.1\n",
      "source = <function <lambda> at 0x12b3190d0>\n",
      "u0 = f_4137\n",
      "u0_deriv = f_4138\n"
     ]
    }
   ],
   "source": [
    "the_model.pretty_print()"
   ]
  },
  {
   "cell_type": "code",
   "execution_count": 47,
   "metadata": {},
   "outputs": [
    {
     "data": {
      "text/plain": [
       "<function __main__.<lambda>(t)>"
      ]
     },
     "execution_count": 47,
     "metadata": {},
     "output_type": "execute_result"
    }
   ],
   "source": [
    "the_model.src"
   ]
  },
  {
   "cell_type": "code",
   "execution_count": 84,
   "metadata": {},
   "outputs": [
    {
     "ename": "AttributeError",
     "evalue": "'dolfin.cpp.fem.PointSource' object has no attribute '_cpp_object'",
     "output_type": "error",
     "traceback": [
      "\u001b[0;31m---------------------------------------------------------------------------\u001b[0m",
      "\u001b[0;31mAttributeError\u001b[0m                            Traceback (most recent call last)",
      "\u001b[0;32m<ipython-input-84-795a5b9b1ee3>\u001b[0m in \u001b[0;36m<module>\u001b[0;34m\u001b[0m\n\u001b[1;32m     10\u001b[0m \u001b[0mff\u001b[0m \u001b[0;34m=\u001b[0m \u001b[0mPointSource\u001b[0m\u001b[0;34m(\u001b[0m\u001b[0mV\u001b[0m\u001b[0;34m,\u001b[0m \u001b[0mPoint\u001b[0m\u001b[0;34m(\u001b[0m\u001b[0;36m0.0\u001b[0m\u001b[0;34m,\u001b[0m\u001b[0;36m0.0\u001b[0m\u001b[0;34m)\u001b[0m\u001b[0;34m,\u001b[0m\u001b[0;36m1.0\u001b[0m\u001b[0;34m)\u001b[0m\u001b[0;34m\u001b[0m\u001b[0;34m\u001b[0m\u001b[0m\n\u001b[1;32m     11\u001b[0m \u001b[0;34m\u001b[0m\u001b[0m\n\u001b[0;32m---> 12\u001b[0;31m \u001b[0mc\u001b[0m \u001b[0;34m=\u001b[0m \u001b[0mplot\u001b[0m\u001b[0;34m(\u001b[0m\u001b[0minterpolate\u001b[0m\u001b[0;34m(\u001b[0m\u001b[0mff\u001b[0m\u001b[0;34m,\u001b[0m \u001b[0mV\u001b[0m\u001b[0;34m)\u001b[0m\u001b[0;34m,\u001b[0m \u001b[0mmode\u001b[0m\u001b[0;34m=\u001b[0m\u001b[0;34m'color'\u001b[0m\u001b[0;34m)\u001b[0m\u001b[0;34m\u001b[0m\u001b[0;34m\u001b[0m\u001b[0m\n\u001b[0m\u001b[1;32m     13\u001b[0m \u001b[0mplt\u001b[0m\u001b[0;34m.\u001b[0m\u001b[0mcolorbar\u001b[0m\u001b[0;34m(\u001b[0m\u001b[0mc\u001b[0m\u001b[0;34m)\u001b[0m\u001b[0;34m\u001b[0m\u001b[0;34m\u001b[0m\u001b[0m\n\u001b[1;32m     14\u001b[0m \u001b[0;34m\u001b[0m\u001b[0m\n",
      "\u001b[0;32m~/opt/anaconda3/envs/fenics-2019.1/lib/python3.8/site-packages/dolfin/fem/interpolation.py\u001b[0m in \u001b[0;36minterpolate\u001b[0;34m(v, V)\u001b[0m\n\u001b[1;32m     71\u001b[0m         \u001b[0mPv\u001b[0m\u001b[0;34m.\u001b[0m\u001b[0minterpolate\u001b[0m\u001b[0;34m(\u001b[0m\u001b[0mv\u001b[0m\u001b[0;34m.\u001b[0m\u001b[0m_cpp_object\u001b[0m\u001b[0;34m)\u001b[0m\u001b[0;34m\u001b[0m\u001b[0;34m\u001b[0m\u001b[0m\n\u001b[1;32m     72\u001b[0m     \u001b[0;32melse\u001b[0m\u001b[0;34m:\u001b[0m\u001b[0;34m\u001b[0m\u001b[0;34m\u001b[0m\u001b[0m\n\u001b[0;32m---> 73\u001b[0;31m         \u001b[0mPv\u001b[0m\u001b[0;34m.\u001b[0m\u001b[0minterpolate\u001b[0m\u001b[0;34m(\u001b[0m\u001b[0mv\u001b[0m\u001b[0;34m)\u001b[0m\u001b[0;34m\u001b[0m\u001b[0;34m\u001b[0m\u001b[0m\n\u001b[0m\u001b[1;32m     74\u001b[0m \u001b[0;34m\u001b[0m\u001b[0m\n\u001b[1;32m     75\u001b[0m     \u001b[0;32mreturn\u001b[0m \u001b[0mPv\u001b[0m\u001b[0;34m\u001b[0m\u001b[0;34m\u001b[0m\u001b[0m\n",
      "\u001b[0;32m~/opt/anaconda3/envs/fenics-2019.1/lib/python3.8/site-packages/dolfin/function/function.py\u001b[0m in \u001b[0;36minterpolate\u001b[0;34m(self, u)\u001b[0m\n\u001b[1;32m    363\u001b[0m             \u001b[0mself\u001b[0m\u001b[0;34m.\u001b[0m\u001b[0m_cpp_object\u001b[0m\u001b[0;34m.\u001b[0m\u001b[0minterpolate\u001b[0m\u001b[0;34m(\u001b[0m\u001b[0mu\u001b[0m\u001b[0;34m.\u001b[0m\u001b[0m_cpp_object\u001b[0m\u001b[0;34m)\u001b[0m\u001b[0;34m\u001b[0m\u001b[0;34m\u001b[0m\u001b[0m\n\u001b[1;32m    364\u001b[0m         \u001b[0;32melse\u001b[0m\u001b[0;34m:\u001b[0m\u001b[0;34m\u001b[0m\u001b[0;34m\u001b[0m\u001b[0m\n\u001b[0;32m--> 365\u001b[0;31m             \u001b[0mself\u001b[0m\u001b[0;34m.\u001b[0m\u001b[0m_cpp_object\u001b[0m\u001b[0;34m.\u001b[0m\u001b[0minterpolate\u001b[0m\u001b[0;34m(\u001b[0m\u001b[0mu\u001b[0m\u001b[0;34m)\u001b[0m\u001b[0;34m\u001b[0m\u001b[0;34m\u001b[0m\u001b[0m\n\u001b[0m\u001b[1;32m    366\u001b[0m \u001b[0;34m\u001b[0m\u001b[0m\n\u001b[1;32m    367\u001b[0m     \u001b[0;32mdef\u001b[0m \u001b[0mcompute_vertex_values\u001b[0m\u001b[0;34m(\u001b[0m\u001b[0mself\u001b[0m\u001b[0;34m,\u001b[0m \u001b[0mmesh\u001b[0m\u001b[0;34m=\u001b[0m\u001b[0;32mNone\u001b[0m\u001b[0;34m)\u001b[0m\u001b[0;34m:\u001b[0m\u001b[0;34m\u001b[0m\u001b[0;34m\u001b[0m\u001b[0m\n",
      "\u001b[0;31mAttributeError\u001b[0m: 'dolfin.cpp.fem.PointSource' object has no attribute '_cpp_object'"
     ]
    }
   ],
   "source": [
    "from dolfin import *\n",
    "import pylab as plt\n",
    "import numpy as np\n",
    "\n",
    "# Create mesh and define function space\n",
    "mesh = UnitSquareMesh(128, 128)\n",
    "V = FunctionSpace(mesh, 'Lagrange', 1)\n",
    "f = Expression(\"%s + %s\"%(PML_expr_full(0.5,0.3,0.0,1.0,0), PML_expr_full(0.5,0.3,0.0,1.0,1)), degree=1)\n",
    "\n",
    "ff = PointSource(V, Point(0.0,0.0),1.0)\n",
    "\n",
    "c = plot(interpolate(f, V), mode='color')\n",
    "plt.colorbar(c)\n",
    "\n",
    "plt.figure()\n",
    "c = plot(interpolate(f, V), mode='color', vmin=-3, vmax=3)\n",
    "plt.colorbar(c)\n",
    "\n",
    "plt.show()"
   ]
  },
  {
   "cell_type": "code",
   "execution_count": 46,
   "metadata": {},
   "outputs": [
    {
     "name": "stdout",
     "output_type": "stream",
     "text": [
      "[4.     4.     3.9204 ... 3.9204 4.     4.    ]\n"
     ]
    }
   ],
   "source": []
  },
  {
   "cell_type": "code",
   "execution_count": 50,
   "metadata": {},
   "outputs": [
    {
     "ename": "RuntimeError",
     "evalue": "Don't know how to plot given object:\n  [4.     4.     3.9204 ... 3.9204 4.     4.    ]\nand projection failed:\n  'numpy.ndarray' object has no attribute 'ufl_domain'",
     "output_type": "error",
     "traceback": [
      "\u001b[0;31m---------------------------------------------------------------------------\u001b[0m",
      "\u001b[0;31mAttributeError\u001b[0m                            Traceback (most recent call last)",
      "\u001b[0;32m~/opt/anaconda3/envs/fenics-2019.1/lib/python3.8/site-packages/dolfin/common/plotting.py\u001b[0m in \u001b[0;36mplot\u001b[0;34m(object, *args, **kwargs)\u001b[0m\n\u001b[1;32m    427\u001b[0m                          \"piecewise linears.\")\n\u001b[0;32m--> 428\u001b[0;31m             \u001b[0mobject\u001b[0m \u001b[0;34m=\u001b[0m \u001b[0mproject\u001b[0m\u001b[0;34m(\u001b[0m\u001b[0mobject\u001b[0m\u001b[0;34m,\u001b[0m \u001b[0mmesh\u001b[0m\u001b[0;34m=\u001b[0m\u001b[0mmesh\u001b[0m\u001b[0;34m)\u001b[0m\u001b[0;34m\u001b[0m\u001b[0;34m\u001b[0m\u001b[0m\n\u001b[0m\u001b[1;32m    429\u001b[0m             \u001b[0mmesh\u001b[0m \u001b[0;34m=\u001b[0m \u001b[0mobject\u001b[0m\u001b[0;34m.\u001b[0m\u001b[0mfunction_space\u001b[0m\u001b[0;34m(\u001b[0m\u001b[0;34m)\u001b[0m\u001b[0;34m.\u001b[0m\u001b[0mmesh\u001b[0m\u001b[0;34m(\u001b[0m\u001b[0;34m)\u001b[0m\u001b[0;34m\u001b[0m\u001b[0;34m\u001b[0m\u001b[0m\n",
      "\u001b[0;32m~/opt/anaconda3/envs/fenics-2019.1/lib/python3.8/site-packages/dolfin/fem/projection.py\u001b[0m in \u001b[0;36mproject\u001b[0;34m(v, V, bcs, mesh, function, solver_type, preconditioner_type, form_compiler_parameters)\u001b[0m\n\u001b[1;32m     94\u001b[0m             \u001b[0;31m# Otherwise try extracting function space from expression\u001b[0m\u001b[0;34m\u001b[0m\u001b[0;34m\u001b[0m\u001b[0;34m\u001b[0m\u001b[0m\n\u001b[0;32m---> 95\u001b[0;31m             \u001b[0mV\u001b[0m \u001b[0;34m=\u001b[0m \u001b[0m_extract_function_space\u001b[0m\u001b[0;34m(\u001b[0m\u001b[0mv\u001b[0m\u001b[0;34m,\u001b[0m \u001b[0mmesh\u001b[0m\u001b[0;34m)\u001b[0m\u001b[0;34m\u001b[0m\u001b[0;34m\u001b[0m\u001b[0m\n\u001b[0m\u001b[1;32m     96\u001b[0m \u001b[0;34m\u001b[0m\u001b[0m\n",
      "\u001b[0;32m~/opt/anaconda3/envs/fenics-2019.1/lib/python3.8/site-packages/dolfin/fem/projection.py\u001b[0m in \u001b[0;36m_extract_function_space\u001b[0;34m(expression, mesh)\u001b[0m\n\u001b[1;32m    150\u001b[0m     \u001b[0;32mif\u001b[0m \u001b[0mmesh\u001b[0m \u001b[0;32mis\u001b[0m \u001b[0;32mNone\u001b[0m\u001b[0;34m:\u001b[0m\u001b[0;34m\u001b[0m\u001b[0;34m\u001b[0m\u001b[0m\n\u001b[0;32m--> 151\u001b[0;31m         \u001b[0mdomain\u001b[0m \u001b[0;34m=\u001b[0m \u001b[0mexpression\u001b[0m\u001b[0;34m.\u001b[0m\u001b[0mufl_domain\u001b[0m\u001b[0;34m(\u001b[0m\u001b[0;34m)\u001b[0m\u001b[0;34m\u001b[0m\u001b[0;34m\u001b[0m\u001b[0m\n\u001b[0m\u001b[1;32m    152\u001b[0m         \u001b[0;32mif\u001b[0m \u001b[0mdomain\u001b[0m \u001b[0;32mis\u001b[0m \u001b[0;32mnot\u001b[0m \u001b[0;32mNone\u001b[0m\u001b[0;34m:\u001b[0m\u001b[0;34m\u001b[0m\u001b[0;34m\u001b[0m\u001b[0m\n",
      "\u001b[0;31mAttributeError\u001b[0m: 'numpy.ndarray' object has no attribute 'ufl_domain'",
      "\nDuring handling of the above exception, another exception occurred:\n",
      "\u001b[0;31mRuntimeError\u001b[0m                              Traceback (most recent call last)",
      "\u001b[0;32m<ipython-input-50-c6b6cade7a93>\u001b[0m in \u001b[0;36m<module>\u001b[0;34m\u001b[0m\n\u001b[0;32m----> 1\u001b[0;31m \u001b[0mplot\u001b[0m\u001b[0;34m(\u001b[0m\u001b[0mtmp\u001b[0m\u001b[0;34m)\u001b[0m\u001b[0;34m\u001b[0m\u001b[0;34m\u001b[0m\u001b[0m\n\u001b[0m",
      "\u001b[0;32m~/opt/anaconda3/envs/fenics-2019.1/lib/python3.8/site-packages/dolfin/common/plotting.py\u001b[0m in \u001b[0;36mplot\u001b[0;34m(object, *args, **kwargs)\u001b[0m\n\u001b[1;32m    432\u001b[0m             \u001b[0mmsg\u001b[0m \u001b[0;34m=\u001b[0m \u001b[0;34m\"Don't know how to plot given object:\\n  %s\\n\"\u001b[0m\u001b[0;31m \u001b[0m\u001b[0;31m\\\u001b[0m\u001b[0;34m\u001b[0m\u001b[0;34m\u001b[0m\u001b[0m\n\u001b[1;32m    433\u001b[0m                   \u001b[0;34m\"and projection failed:\\n  %s\"\u001b[0m \u001b[0;34m%\u001b[0m \u001b[0;34m(\u001b[0m\u001b[0mstr\u001b[0m\u001b[0;34m(\u001b[0m\u001b[0mobject\u001b[0m\u001b[0;34m)\u001b[0m\u001b[0;34m,\u001b[0m \u001b[0mstr\u001b[0m\u001b[0;34m(\u001b[0m\u001b[0me\u001b[0m\u001b[0;34m)\u001b[0m\u001b[0;34m)\u001b[0m\u001b[0;34m\u001b[0m\u001b[0;34m\u001b[0m\u001b[0m\n\u001b[0;32m--> 434\u001b[0;31m             \u001b[0;32mraise\u001b[0m \u001b[0mRuntimeError\u001b[0m\u001b[0;34m(\u001b[0m\u001b[0mmsg\u001b[0m\u001b[0;34m)\u001b[0m\u001b[0;34m\u001b[0m\u001b[0;34m\u001b[0m\u001b[0m\n\u001b[0m\u001b[1;32m    435\u001b[0m \u001b[0;34m\u001b[0m\u001b[0m\n\u001b[1;32m    436\u001b[0m     \u001b[0;31m# Plot\u001b[0m\u001b[0;34m\u001b[0m\u001b[0;34m\u001b[0m\u001b[0;34m\u001b[0m\u001b[0m\n",
      "\u001b[0;31mRuntimeError\u001b[0m: Don't know how to plot given object:\n  [4.     4.     3.9204 ... 3.9204 4.     4.    ]\nand projection failed:\n  'numpy.ndarray' object has no attribute 'ufl_domain'"
     ]
    }
   ],
   "source": []
  },
  {
   "cell_type": "code",
   "execution_count": 50,
   "metadata": {},
   "outputs": [
    {
     "name": "stdout",
     "output_type": "stream",
     "text": [
      "Calling FFC just-in-time (JIT) compiler, this may take some time.\n"
     ]
    }
   ],
   "source": []
  },
  {
   "cell_type": "code",
   "execution_count": 53,
   "metadata": {},
   "outputs": [
    {
     "name": "stdout",
     "output_type": "stream",
     "text": [
      "Invalid ranks 1 and 1 in product.\n"
     ]
    },
    {
     "ename": "UFLException",
     "evalue": "Invalid ranks 1 and 1 in product.",
     "output_type": "error",
     "traceback": [
      "\u001b[0;31m---------------------------------------------------------------------------\u001b[0m",
      "\u001b[0;31mUFLException\u001b[0m                              Traceback (most recent call last)",
      "\u001b[0;32m<ipython-input-53-6f3b17315eb6>\u001b[0m in \u001b[0;36m<module>\u001b[0;34m\u001b[0m\n\u001b[1;32m      1\u001b[0m \u001b[0mu\u001b[0m \u001b[0;34m=\u001b[0m \u001b[0mTestFunction\u001b[0m\u001b[0;34m(\u001b[0m\u001b[0mV\u001b[0m\u001b[0;34m)\u001b[0m\u001b[0;34m\u001b[0m\u001b[0;34m\u001b[0m\u001b[0m\n\u001b[1;32m      2\u001b[0m \u001b[0mv\u001b[0m \u001b[0;34m=\u001b[0m \u001b[0mTrialFunction\u001b[0m\u001b[0;34m(\u001b[0m\u001b[0mV\u001b[0m\u001b[0;34m)\u001b[0m\u001b[0;34m\u001b[0m\u001b[0;34m\u001b[0m\u001b[0m\n\u001b[0;32m----> 3\u001b[0;31m \u001b[0mA\u001b[0m \u001b[0;34m=\u001b[0m \u001b[0mu\u001b[0m \u001b[0;34m*\u001b[0m \u001b[0mv\u001b[0m \u001b[0;34m*\u001b[0m \u001b[0mdx\u001b[0m\u001b[0;34m\u001b[0m\u001b[0;34m\u001b[0m\u001b[0m\n\u001b[0m\u001b[1;32m      4\u001b[0m \u001b[0mL\u001b[0m \u001b[0;34m=\u001b[0m \u001b[0mv\u001b[0m \u001b[0;34m*\u001b[0m \u001b[0mdx\u001b[0m\u001b[0;34m\u001b[0m\u001b[0;34m\u001b[0m\u001b[0m\n",
      "\u001b[0;32m~/opt/anaconda3/envs/fenics-2019.1/lib/python3.8/site-packages/ufl/exproperators.py\u001b[0m in \u001b[0;36m_mul\u001b[0;34m(self, o)\u001b[0m\n\u001b[1;32m    191\u001b[0m         \u001b[0;32mreturn\u001b[0m \u001b[0mNotImplemented\u001b[0m\u001b[0;34m\u001b[0m\u001b[0;34m\u001b[0m\u001b[0m\n\u001b[1;32m    192\u001b[0m     \u001b[0mo\u001b[0m \u001b[0;34m=\u001b[0m \u001b[0mas_ufl\u001b[0m\u001b[0;34m(\u001b[0m\u001b[0mo\u001b[0m\u001b[0;34m)\u001b[0m\u001b[0;34m\u001b[0m\u001b[0;34m\u001b[0m\u001b[0m\n\u001b[0;32m--> 193\u001b[0;31m     \u001b[0;32mreturn\u001b[0m \u001b[0m_mult\u001b[0m\u001b[0;34m(\u001b[0m\u001b[0mself\u001b[0m\u001b[0;34m,\u001b[0m \u001b[0mo\u001b[0m\u001b[0;34m)\u001b[0m\u001b[0;34m\u001b[0m\u001b[0;34m\u001b[0m\u001b[0m\n\u001b[0m\u001b[1;32m    194\u001b[0m \u001b[0;34m\u001b[0m\u001b[0m\n\u001b[1;32m    195\u001b[0m \u001b[0;34m\u001b[0m\u001b[0m\n",
      "\u001b[0;32m~/opt/anaconda3/envs/fenics-2019.1/lib/python3.8/site-packages/ufl/exproperators.py\u001b[0m in \u001b[0;36m_mult\u001b[0;34m(a, b)\u001b[0m\n\u001b[1;32m    165\u001b[0m \u001b[0;34m\u001b[0m\u001b[0m\n\u001b[1;32m    166\u001b[0m     \u001b[0;32melse\u001b[0m\u001b[0;34m:\u001b[0m\u001b[0;34m\u001b[0m\u001b[0;34m\u001b[0m\u001b[0m\n\u001b[0;32m--> 167\u001b[0;31m         \u001b[0merror\u001b[0m\u001b[0;34m(\u001b[0m\u001b[0;34m\"Invalid ranks {0} and {1} in product.\"\u001b[0m\u001b[0;34m.\u001b[0m\u001b[0mformat\u001b[0m\u001b[0;34m(\u001b[0m\u001b[0mr1\u001b[0m\u001b[0;34m,\u001b[0m \u001b[0mr2\u001b[0m\u001b[0;34m)\u001b[0m\u001b[0;34m)\u001b[0m\u001b[0;34m\u001b[0m\u001b[0;34m\u001b[0m\u001b[0m\n\u001b[0m\u001b[1;32m    168\u001b[0m \u001b[0;34m\u001b[0m\u001b[0m\n\u001b[1;32m    169\u001b[0m     \u001b[0;31m# TODO: I think applying as_tensor after index sums results in\u001b[0m\u001b[0;34m\u001b[0m\u001b[0;34m\u001b[0m\u001b[0;34m\u001b[0m\u001b[0m\n",
      "\u001b[0;32m~/opt/anaconda3/envs/fenics-2019.1/lib/python3.8/site-packages/ufl/log.py\u001b[0m in \u001b[0;36merror\u001b[0;34m(self, *message)\u001b[0m\n\u001b[1;32m    170\u001b[0m         \u001b[0;34m\"Write error message and raise an exception.\"\u001b[0m\u001b[0;34m\u001b[0m\u001b[0;34m\u001b[0m\u001b[0m\n\u001b[1;32m    171\u001b[0m         \u001b[0mself\u001b[0m\u001b[0;34m.\u001b[0m\u001b[0m_log\u001b[0m\u001b[0;34m.\u001b[0m\u001b[0merror\u001b[0m\u001b[0;34m(\u001b[0m\u001b[0;34m*\u001b[0m\u001b[0mmessage\u001b[0m\u001b[0;34m)\u001b[0m\u001b[0;34m\u001b[0m\u001b[0;34m\u001b[0m\u001b[0m\n\u001b[0;32m--> 172\u001b[0;31m         \u001b[0;32mraise\u001b[0m \u001b[0mself\u001b[0m\u001b[0;34m.\u001b[0m\u001b[0m_exception_type\u001b[0m\u001b[0;34m(\u001b[0m\u001b[0mself\u001b[0m\u001b[0;34m.\u001b[0m\u001b[0m_format_raw\u001b[0m\u001b[0;34m(\u001b[0m\u001b[0;34m*\u001b[0m\u001b[0mmessage\u001b[0m\u001b[0;34m)\u001b[0m\u001b[0;34m)\u001b[0m\u001b[0;34m\u001b[0m\u001b[0;34m\u001b[0m\u001b[0m\n\u001b[0m\u001b[1;32m    173\u001b[0m \u001b[0;34m\u001b[0m\u001b[0m\n\u001b[1;32m    174\u001b[0m     \u001b[0;32mdef\u001b[0m \u001b[0mbegin\u001b[0m\u001b[0;34m(\u001b[0m\u001b[0mself\u001b[0m\u001b[0;34m,\u001b[0m \u001b[0;34m*\u001b[0m\u001b[0mmessage\u001b[0m\u001b[0;34m)\u001b[0m\u001b[0;34m:\u001b[0m\u001b[0;34m\u001b[0m\u001b[0;34m\u001b[0m\u001b[0m\n",
      "\u001b[0;31mUFLException\u001b[0m: Invalid ranks 1 and 1 in product."
     ]
    }
   ],
   "source": [
    "\n"
   ]
  },
  {
   "cell_type": "code",
   "execution_count": 78,
   "metadata": {},
   "outputs": [
    {
     "ename": "RuntimeError",
     "evalue": "Unable to cast Python instance to C++ type (compile in debug mode for details)",
     "output_type": "error",
     "traceback": [
      "\u001b[0;31m---------------------------------------------------------------------------\u001b[0m",
      "\u001b[0;31mRuntimeError\u001b[0m                              Traceback (most recent call last)",
      "\u001b[0;32m<ipython-input-78-910b7d181312>\u001b[0m in \u001b[0;36m<module>\u001b[0;34m\u001b[0m\n\u001b[1;32m      1\u001b[0m \u001b[0mpsrc\u001b[0m \u001b[0;34m=\u001b[0m \u001b[0;32mlambda\u001b[0m \u001b[0mt\u001b[0m \u001b[0;34m:\u001b[0m \u001b[0mPointSource\u001b[0m\u001b[0;34m(\u001b[0m\u001b[0mthe_model\u001b[0m\u001b[0;34m.\u001b[0m\u001b[0mV\u001b[0m\u001b[0;34m,\u001b[0m\u001b[0mPoint\u001b[0m\u001b[0;34m(\u001b[0m\u001b[0;36m0.0\u001b[0m\u001b[0;34m,\u001b[0m\u001b[0;36m0.0\u001b[0m\u001b[0;34m)\u001b[0m\u001b[0;34m,\u001b[0m \u001b[0;36m1.0\u001b[0m\u001b[0;34m/\u001b[0m\u001b[0;34m(\u001b[0m\u001b[0mt\u001b[0m\u001b[0;34m+\u001b[0m\u001b[0;36m1\u001b[0m\u001b[0;34m)\u001b[0m\u001b[0;34m)\u001b[0m\u001b[0;34m\u001b[0m\u001b[0;34m\u001b[0m\u001b[0m\n\u001b[0;32m----> 2\u001b[0;31m \u001b[0mplot\u001b[0m\u001b[0;34m(\u001b[0m\u001b[0mExpression\u001b[0m\u001b[0;34m(\u001b[0m\u001b[0;34m\"sin(x[0])\"\u001b[0m\u001b[0;34m,\u001b[0m \u001b[0mmesh\u001b[0m\u001b[0;34m=\u001b[0m\u001b[0mmesh\u001b[0m\u001b[0;34m,\u001b[0m \u001b[0mdegree\u001b[0m\u001b[0;34m=\u001b[0m\u001b[0;36m1\u001b[0m\u001b[0;34m)\u001b[0m\u001b[0;34m)\u001b[0m\u001b[0;34m\u001b[0m\u001b[0;34m\u001b[0m\u001b[0m\n\u001b[0m",
      "\u001b[0;32m~/opt/anaconda3/envs/fenics-2019.1/lib/python3.8/site-packages/dolfin/function/expression.py\u001b[0m in \u001b[0;36m__init__\u001b[0;34m(self, cpp_code, *args, **kwargs)\u001b[0m\n\u001b[1;32m    398\u001b[0m                     \u001b[0;32mraise\u001b[0m \u001b[0mKeyError\u001b[0m\u001b[0;34m(\u001b[0m\u001b[0;34m\"User parameter key must be a string\"\u001b[0m\u001b[0;34m)\u001b[0m\u001b[0;34m\u001b[0m\u001b[0;34m\u001b[0m\u001b[0m\n\u001b[1;32m    399\u001b[0m \u001b[0;34m\u001b[0m\u001b[0m\n\u001b[0;32m--> 400\u001b[0;31m             \u001b[0mself\u001b[0m\u001b[0;34m.\u001b[0m\u001b[0m_cpp_object\u001b[0m \u001b[0;34m=\u001b[0m \u001b[0mjit\u001b[0m\u001b[0;34m.\u001b[0m\u001b[0mcompile_expression\u001b[0m\u001b[0;34m(\u001b[0m\u001b[0mcpp_code\u001b[0m\u001b[0;34m,\u001b[0m \u001b[0mparams\u001b[0m\u001b[0;34m)\u001b[0m\u001b[0;34m\u001b[0m\u001b[0;34m\u001b[0m\u001b[0m\n\u001b[0m\u001b[1;32m    401\u001b[0m             \u001b[0mself\u001b[0m\u001b[0;34m.\u001b[0m\u001b[0m_parameters\u001b[0m \u001b[0;34m=\u001b[0m \u001b[0mExpressionParameters\u001b[0m\u001b[0;34m(\u001b[0m\u001b[0mself\u001b[0m\u001b[0;34m.\u001b[0m\u001b[0m_cpp_object\u001b[0m\u001b[0;34m,\u001b[0m \u001b[0mparams\u001b[0m\u001b[0;34m)\u001b[0m\u001b[0;34m\u001b[0m\u001b[0;34m\u001b[0m\u001b[0m\n\u001b[1;32m    402\u001b[0m \u001b[0;34m\u001b[0m\u001b[0m\n",
      "\u001b[0;32m~/opt/anaconda3/envs/fenics-2019.1/lib/python3.8/site-packages/dolfin/function/jit.py\u001b[0m in \u001b[0;36mcompile_expression\u001b[0;34m(statements, properties)\u001b[0m\n\u001b[1;32m    156\u001b[0m                 'name': 'expression', 'jit_generate': jit_generate}\n\u001b[1;32m    157\u001b[0m \u001b[0;34m\u001b[0m\u001b[0m\n\u001b[0;32m--> 158\u001b[0;31m     \u001b[0mexpression\u001b[0m \u001b[0;34m=\u001b[0m \u001b[0mcompile_class\u001b[0m\u001b[0;34m(\u001b[0m\u001b[0mcpp_data\u001b[0m\u001b[0;34m,\u001b[0m \u001b[0mmpi_comm\u001b[0m\u001b[0;34m=\u001b[0m\u001b[0mmpi_comm\u001b[0m\u001b[0;34m)\u001b[0m\u001b[0;34m\u001b[0m\u001b[0;34m\u001b[0m\u001b[0m\n\u001b[0m\u001b[1;32m    159\u001b[0m     \u001b[0;32mreturn\u001b[0m \u001b[0mexpression\u001b[0m\u001b[0;34m\u001b[0m\u001b[0;34m\u001b[0m\u001b[0m\n",
      "\u001b[0;32m~/opt/anaconda3/envs/fenics-2019.1/lib/python3.8/site-packages/dolfin/jit/jit.py\u001b[0m in \u001b[0;36mcompile_class\u001b[0;34m(cpp_data, mpi_comm)\u001b[0m\n\u001b[1;32m    178\u001b[0m     \u001b[0;31m# FIXME: maybe remove from here (do it in Expression and SubDomain instead)\u001b[0m\u001b[0;34m\u001b[0m\u001b[0;34m\u001b[0m\u001b[0;34m\u001b[0m\u001b[0m\n\u001b[1;32m    179\u001b[0m     \u001b[0;32mfor\u001b[0m \u001b[0mk\u001b[0m\u001b[0;34m,\u001b[0m \u001b[0mv\u001b[0m \u001b[0;32min\u001b[0m \u001b[0mproperties\u001b[0m\u001b[0;34m.\u001b[0m\u001b[0mitems\u001b[0m\u001b[0;34m(\u001b[0m\u001b[0;34m)\u001b[0m\u001b[0;34m:\u001b[0m\u001b[0;34m\u001b[0m\u001b[0;34m\u001b[0m\u001b[0m\n\u001b[0;32m--> 180\u001b[0;31m         \u001b[0mpython_object\u001b[0m\u001b[0;34m.\u001b[0m\u001b[0mset_property\u001b[0m\u001b[0;34m(\u001b[0m\u001b[0mk\u001b[0m\u001b[0;34m,\u001b[0m \u001b[0mv\u001b[0m\u001b[0;34m)\u001b[0m\u001b[0;34m\u001b[0m\u001b[0;34m\u001b[0m\u001b[0m\n\u001b[0m\u001b[1;32m    181\u001b[0m \u001b[0;34m\u001b[0m\u001b[0m\n\u001b[1;32m    182\u001b[0m     \u001b[0;32mreturn\u001b[0m \u001b[0mpython_object\u001b[0m\u001b[0;34m\u001b[0m\u001b[0;34m\u001b[0m\u001b[0m\n",
      "\u001b[0;31mRuntimeError\u001b[0m: Unable to cast Python instance to C++ type (compile in debug mode for details)"
     ]
    }
   ],
   "source": [
    "psrc = lambda t : PointSource(the_model.V,Point(0.0,0.0), 1.0/(t+1))\n",
    "plot(Expression(\"sin(x[0])\", mesh=mesh, degree=1))"
   ]
  },
  {
   "cell_type": "code",
   "execution_count": null,
   "metadata": {},
   "outputs": [],
   "source": []
  }
 ],
 "metadata": {
  "kernelspec": {
   "display_name": "Python 3",
   "language": "python",
   "name": "python3"
  },
  "language_info": {
   "codemirror_mode": {
    "name": "ipython",
    "version": 3
   },
   "file_extension": ".py",
   "mimetype": "text/x-python",
   "name": "python",
   "nbconvert_exporter": "python",
   "pygments_lexer": "ipython3",
   "version": "3.8.0"
  }
 },
 "nbformat": 4,
 "nbformat_minor": 2
}
